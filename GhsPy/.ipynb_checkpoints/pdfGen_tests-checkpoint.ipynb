{
 "cells": [
  {
   "cell_type": "code",
   "execution_count": 1,
   "id": "83753208-fc79-4045-b7e8-38bd0ffbbc1f",
   "metadata": {},
   "outputs": [],
   "source": [
    "from reportlab.pdfgen import canvas\n",
    "from reportlab.platypus import Paragraph, Frame, KeepInFrame\n",
    "from scraper import chemGHScode, Label_contents\n",
    "\n",
    "result, title = chemGHScode(\"https://pubchem.ncbi.nlm.nih.gov/compound/24408\")\n",
    "label = Label_contents(result, title)\n"
   ]
  },
  {
   "cell_type": "code",
   "execution_count": 58,
   "id": "875e6ef2-a930-4064-853e-17c64b7453d3",
   "metadata": {},
   "outputs": [],
   "source": [
    "def prod_ident(c):\n",
    "    #Font\n",
    "    c.setFont(\"Helvetica\",50)\n",
    "    #Colors for the rectangule\n",
    "    c.setStrokeColorRGB(0,0,0)\n",
    "    c.setFillColorRGB(0,0,0)\n",
    "    #rectangle (x, y, base, height, fill)\n",
    "    c.rect(10,20,50,50, fill = 1)\n",
    "    #text color\n",
    "    c.setFillColorRGB(1,1,1)\n",
    "    #Text string and its coordinates (x,y)\n",
    "    c.drawString(10,20,label.title)\n",
    "    \n",
    "\n",
    "def signal_word(c):\n",
    "    #Font\n",
    "    c.setFont(\"Helvetica\",25)\n",
    "    #Colors\n",
    "    c.setStrokeColorRGB(1,1,1)\n",
    "    c.setFillColorRGB(0,0,0)\n",
    "    c.drawString(0,0,label.signal_word)\n",
    "\n",
    "def hazard_state(c):\n",
    "    #Font\n",
    "    c.setFont(\"Helvetica\",14)\n",
    "    h_text = \"\"\n",
    "    for code in list(label.hazard_cont.keys()):\n",
    "        h_text = h_text + code + \": \" + label.hazard_cont[code][0] + \" \"\n",
    "    c.drawString(0,0,h_text)\n",
    "\n",
    "def prec_state(c):\n",
    "    p_text = \"\"\n",
    "    for code in list(label.prec_cont.keys()):\n",
    "        p_text = p_text + code + \": \" + label.prec_cont[code][0] + \" \"\n",
    "    c.drawString(0,0,p_text)\n",
    "\n",
    "def pictograms(c):\n",
    "    pass\n",
    "\n",
    "def supp_info(c):\n",
    "    pass\n",
    "\n",
    "c = canvas.Canvas(f\"{label.title}.pdf\")\n",
    "prod_ident(c)\n",
    "signal_word(c)\n",
    "hazard_state(c)\n",
    "prec_state(c)\n",
    "c.showPage()\n",
    "c.save()"
   ]
  },
  {
   "cell_type": "code",
   "execution_count": 8,
   "id": "60d66317-d19e-4d11-b3b6-ce8b7f35070b",
   "metadata": {},
   "outputs": [
    {
     "name": "stdout",
     "output_type": "stream",
     "text": [
      "['H314', 'H318', 'H330', 'H400'] \n",
      " ['P260', 'P264', 'P264+P265', 'P271', 'P273', 'P280', 'P284', 'P301+P330+P331', 'P302+P361+P354', 'P304+P340', 'P305+P354+P338', 'P316', 'P317', 'P320', 'P321', 'P363', 'P391', 'P403+P233', 'P405', 'P501']\n"
     ]
    }
   ],
   "source": [
    "print(list(label.hazard_cont.keys()), \"\\n\", list(label.prec_cont.keys()))"
   ]
  },
  {
   "cell_type": "code",
   "execution_count": 10,
   "id": "23b7fa2a-2ac5-4488-80cb-e4e7f6dd1571",
   "metadata": {},
   "outputs": [
    {
     "name": "stdout",
     "output_type": "stream",
     "text": [
      "Causes severe skin burns and eye damage\n"
     ]
    }
   ],
   "source": [
    "print(label.hazard_cont['H314'][0])"
   ]
  },
  {
   "cell_type": "code",
   "execution_count": 27,
   "id": "89150fc3-cb95-4ce2-bb44-1ef185e12b2c",
   "metadata": {},
   "outputs": [
    {
     "name": "stdout",
     "output_type": "stream",
     "text": [
      "H314: Causes severe skin burns and eye damage H318: Causes serious eye damage H330: Fatal if inhaled H400: Very toxic to aquatic life \n"
     ]
    }
   ],
   "source": [
    "h_text = \"\"\n",
    "for code in list(label.hazard_cont.keys()):\n",
    "    h_text = h_text + code + \": \" + label.hazard_cont[code][0] + \" \"\n",
    "print(h_text)"
   ]
  },
  {
   "cell_type": "code",
   "execution_count": 31,
   "id": "844fe56d-479f-4f70-a380-3facd0c16656",
   "metadata": {},
   "outputs": [
    {
     "name": "stdout",
     "output_type": "stream",
     "text": [
      "P260: Do not breathe dust/fume/gas/mist/vapors/spray. P264: Wash hands [and ...] thoroughly after handling. P264+P265: Wash hands [and ...] thoroughly after handling. Do not touch eyes. P271: Use only outdoors or in a well-ventilated area. P273: Avoid release to the environment. P280: Wear protective gloves/protective clothing/eye protection/face protection/hearing protection/... P284: [In case of inadequate ventilation] Wear respiratory protection. P301+P330+P331: IF SWALLOWED: Rinse mouth. Do NOT induce vomiting. P302+P361+P354: IF ON SKIN: Take off Immediately all contaminated clothing. Immediately rinse with water for several minutes. P304+P340: IF INHALED: Remove person to fresh air and keep comfortable for breathing. P305+P354+P338: IF IN EYES: Immediately rinse with water for several minutes. Remove contact lenses if present and easy to do. Continue rinsing. P316: Get emergency medical help immediately. P317: Get emergency medical help. P320: Specific treatment is urgent (see ... on this label). P321: Specific treatment (see ... on this label). P363: Wash contaminated clothing before reuse. P391: Collect spillage. P403+P233: Store in a well-ventilated place. Keep container tightly closed. P405: Store locked up. P501: Dispose of contents/container to ... \n"
     ]
    }
   ],
   "source": [
    "p_text = \"\"\n",
    "for code in list(label.prec_cont.keys()):\n",
    "    p_text = p_text + code + \": \" + label.prec_cont[code][0] + \" \"\n",
    "print(p_text)"
   ]
  },
  {
   "cell_type": "code",
   "execution_count": 81,
   "id": "a0875843-2555-4ecf-a949-87ed6f3b7625",
   "metadata": {},
   "outputs": [],
   "source": [
    "from reportlab.platypus import Paragraph, Frame, SimpleDocTemplate, KeepInFrame\n",
    "from reportlab.pdfgen import canvas\n",
    "from reportlab.lib.units import cm\n",
    "from reportlab.lib.styles import getSampleStyleSheet\n",
    "\n",
    "pdf = canvas.Canvas(\"Frame.pdf\")\n",
    "height = 200\n",
    "base = 400\n",
    "pos_x = 20\n",
    "pos_y = 20\n",
    "flow_obj = []\n",
    "frame_t = Frame(pos_x , pos_y + height-((height/6) * 1), 200, height/6, showBoundary = 1)\n",
    "frame_sig = Frame(pos_x , pos_y + height-((height/6) * 2), 200, height/6, showBoundary = 1)\n",
    "frame_haz = Frame(pos_x , pos_y + height-((height/6) * 3), 200, height/6, showBoundary = 1)\n",
    "frame_prec = Frame(pos_x , pos_y, 200, height/2, showBoundary = 1)\n",
    "frame_picto = Frame(pos_x + base/2 , pos_y, 200, 200, showBoundary = 1)\n",
    "frame_t.addFromList(flow_obj, pdf)\n",
    "frame_sig.addFromList(flow_obj, pdf)\n",
    "frame_haz.addFromList(flow_obj, pdf)\n",
    "frame_prec.addFromList(flow_obj, pdf)\n",
    "frame_picto.addFromList(flow_obj, pdf)\n",
    "pdf.save()"
   ]
  },
  {
   "cell_type": "code",
   "execution_count": 13,
   "id": "b0ec4fa5-c384-4558-a23f-ef2a624d7c61",
   "metadata": {},
   "outputs": [],
   "source": [
    "from reportlab.platypus import Paragraph, Frame, SimpleDocTemplate, KeepInFrame\n",
    "from reportlab.pdfgen import canvas\n",
    "from reportlab.lib.units import cm\n",
    "from reportlab.lib.styles import getSampleStyleSheet\n",
    "\n",
    "\n",
    "\n",
    "def prod_ident(pdf):\n",
    "    #Text in paragraph obj\n",
    "    p_text = [Paragraph(label.title, style = Styles[\"Normal\"])]\n",
    "    \n",
    "    #Keep in Frame\n",
    "    p_text = KeepInFrame(200, height/6, p_text)\n",
    "\n",
    "    #Frame\n",
    "    frame_t = Frame(pos_x , pos_y + height-((height/6) * 1), 200, height/6, showBoundary = 1)\n",
    "\n",
    "    #To the frame obj it is appended the flow_obj with the paragraph obj within\n",
    "    frame_t.addFromList([p_text], pdf)\n",
    "    \n",
    "def signal_word(pdf):\n",
    "    #\n",
    "    p_text = [Paragraph(label.signal_word, style = Styles[\"Normal\"])]\n",
    "    #\n",
    "    p_text = KeepInFrame(200, height-((height/6) * 2), p_text)\n",
    "    #\n",
    "    frame_sig = Frame(pos_x , pos_y + height-((height/6) * 2), 200, height/6, showBoundary = 1)\n",
    "    #\n",
    "    frame_sig.addFromList([p_text], pdf)\n",
    "    \n",
    "def hazard_state(pdf):\n",
    "    #\n",
    "    p_text = \"\"\n",
    "    for code in list(label.hazard_cont.keys()):\n",
    "        p_text = p_text + code + \": \" + label.hazard_cont[code][0] + \" \"\n",
    "    #\n",
    "    p_text = [Paragraph(p_text, style = Styles[\"Normal\"])]\n",
    "    #\n",
    "    p_text = KeepInFrame(200, height-((height/6) * 3), p_text)\n",
    "    #\n",
    "    frame_haz = Frame(pos_x , pos_y + height-((height/6) * 3), 200, height/6, showBoundary = 1)\n",
    "    #\n",
    "    frame_haz.addFromList([p_text], pdf)\n",
    "    \n",
    "def prec_state(pdf):\n",
    "    #\n",
    "    p_text = \"\"\n",
    "    for code in list(label.prec_cont.keys()):\n",
    "        p_text = p_text + code + \": \" + label.prec_cont[code][0] + \" \"\n",
    "    #\n",
    "    p_text = [Paragraph(p_text, style = Styles[\"Normal\"])]\n",
    "    #\n",
    "    p_text = KeepInFrame(200, height/2, p_text)\n",
    "    #\n",
    "    frame_prec = Frame(pos_x , pos_y, 200, height/2, showBoundary = 1)\n",
    "    #\n",
    "    frame_prec.addFromList([p_text], pdf)\n",
    "\n",
    "def pictograms(pdf):\n",
    "    frame_picto = Frame(pos_x + base/2 , pos_y, 200, 200, showBoundary = 1)\n",
    "    frame_picto.addFromList(flow_obj, pdf)\n",
    "\n",
    "def supp_info(pdf):\n",
    "    pass\n",
    "\n",
    "pdf = canvas.Canvas(\"Frame.pdf\")\n",
    "\n",
    "#Global label dimensions and original position\n",
    "height = 200\n",
    "base = 400\n",
    "pos_x = 20\n",
    "pos_y = 20\n",
    "\n",
    "#\n",
    "flow_obj = []\n",
    "Styles = getSampleStyleSheet()\n",
    "\n",
    "#Frame and paragraph generation\n",
    "prod_ident(pdf)\n",
    "signal_word(pdf)\n",
    "hazard_state(pdf)\n",
    "prec_state(pdf)\n",
    "pictograms(pdf)\n",
    "\n",
    "#pdf saving\n",
    "pdf.save()"
   ]
  },
  {
   "cell_type": "code",
   "execution_count": 21,
   "id": "d9f566cb-8be3-4724-8e83-8635ab4ee0ce",
   "metadata": {},
   "outputs": [
    {
     "ename": "AttributeError",
     "evalue": "'ImageReader' object has no attribute 'rotate'",
     "output_type": "error",
     "traceback": [
      "\u001b[1;31m---------------------------------------------------------------------------\u001b[0m",
      "\u001b[1;31mAttributeError\u001b[0m                            Traceback (most recent call last)",
      "Cell \u001b[1;32mIn[21], line 6\u001b[0m\n\u001b[0;32m      4\u001b[0m pdf \u001b[38;5;241m=\u001b[39m canvas\u001b[38;5;241m.\u001b[39mCanvas(\u001b[38;5;124m\"\u001b[39m\u001b[38;5;124mimagenes.pdf\u001b[39m\u001b[38;5;124m\"\u001b[39m)\n\u001b[0;32m      5\u001b[0m width, height \u001b[38;5;241m=\u001b[39m fig\u001b[38;5;241m.\u001b[39mgetSize()\n\u001b[1;32m----> 6\u001b[0m \u001b[43mfig\u001b[49m\u001b[38;5;241;43m.\u001b[39;49m\u001b[43mrotate\u001b[49m(\u001b[38;5;241m-\u001b[39m\u001b[38;5;241m45\u001b[39m)\n\u001b[0;32m      7\u001b[0m pdf\u001b[38;5;241m.\u001b[39mdrawImage(fig, x\u001b[38;5;241m=\u001b[39m\u001b[38;5;241m100\u001b[39m,y\u001b[38;5;241m=\u001b[39m\u001b[38;5;241m500\u001b[39m, width\u001b[38;5;241m=\u001b[39mwidth\u001b[38;5;241m/\u001b[39m\u001b[38;5;241m10\u001b[39m,height\u001b[38;5;241m=\u001b[39mheight\u001b[38;5;241m/\u001b[39m\u001b[38;5;241m10\u001b[39m,mask\u001b[38;5;241m=\u001b[39m\u001b[38;5;28;01mNone\u001b[39;00m)\n\u001b[0;32m      8\u001b[0m pdf\u001b[38;5;241m.\u001b[39msave()\n",
      "\u001b[1;31mAttributeError\u001b[0m: 'ImageReader' object has no attribute 'rotate'"
     ]
    }
   ],
   "source": [
    "from reportlab.lib.utils import ImageReader\n",
    "\n",
    "fig = ImageReader(\"pictograms/GHS01.png\")\n",
    "pdf = canvas.Canvas(\"imagenes.pdf\")\n",
    "width, height = fig.getSize()\n",
    "pdf.drawImage(fig, x=100,y=500, width=width/10,height=height/10,mask=None)\n",
    "pdf.save()"
   ]
  },
  {
   "cell_type": "code",
   "execution_count": 26,
   "id": "a975d872-bae1-4dd4-9f2a-50458fb5e8f0",
   "metadata": {},
   "outputs": [
    {
     "data": {
      "text/plain": [
       "3"
      ]
     },
     "execution_count": 26,
     "metadata": {},
     "output_type": "execute_result"
    }
   ],
   "source": [
    "len(label.active_pictograms )"
   ]
  },
  {
   "cell_type": "code",
   "execution_count": null,
   "id": "40325fd3-9b33-41bd-8f02-abb63b9e72fa",
   "metadata": {},
   "outputs": [],
   "source": [
    "def picto_format(len(label.active_pictograms)):\n",
    "    "
   ]
  }
 ],
 "metadata": {
  "kernelspec": {
   "display_name": "Python 3 (ipykernel)",
   "language": "python",
   "name": "python3"
  },
  "language_info": {
   "codemirror_mode": {
    "name": "ipython",
    "version": 3
   },
   "file_extension": ".py",
   "mimetype": "text/x-python",
   "name": "python",
   "nbconvert_exporter": "python",
   "pygments_lexer": "ipython3",
   "version": "3.12.3"
  }
 },
 "nbformat": 4,
 "nbformat_minor": 5
}
