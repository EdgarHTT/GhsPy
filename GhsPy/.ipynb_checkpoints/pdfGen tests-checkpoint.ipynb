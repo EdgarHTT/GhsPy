{
 "cells": [
  {
   "cell_type": "code",
   "execution_count": 1,
   "id": "83753208-fc79-4045-b7e8-38bd0ffbbc1f",
   "metadata": {},
   "outputs": [],
   "source": [
    "from reportlab.pdfgen import canvas\n",
    "from scraper import chemGHScode, Label_contents\n",
    "\n",
    "result, title = chemGHScode(\"https://pubchem.ncbi.nlm.nih.gov/compound/24408\")\n",
    "label = Label_contents(result, title)\n"
   ]
  },
  {
   "cell_type": "code",
   "execution_count": 2,
   "id": "875e6ef2-a930-4064-853e-17c64b7453d3",
   "metadata": {},
   "outputs": [],
   "source": [
    "def prod_ident(c):\n",
    "    c.drawString(50,800,label.title)\n",
    "\n",
    "def signal_word(c):\n",
    "    c.drawString(50,750,label.signal_word)\n",
    "\n",
    "def hazard_state(c):\n",
    "    pass\n",
    "\n",
    "def prec_state(c):\n",
    "    pass\n",
    "\n",
    "def pictograms(c):\n",
    "    pass\n",
    "\n",
    "def supp_info(c):\n",
    "    pass\n",
    "\n",
    "c = canvas.Canvas(\"Test.pdf\")\n",
    "prod_ident(c)\n",
    "signal_word(c)\n",
    "c.showPage()\n",
    "c.save()"
   ]
  },
  {
   "cell_type": "code",
   "execution_count": null,
   "id": "60d66317-d19e-4d11-b3b6-ce8b7f35070b",
   "metadata": {},
   "outputs": [],
   "source": []
  }
 ],
 "metadata": {
  "kernelspec": {
   "display_name": "Python 3 (ipykernel)",
   "language": "python",
   "name": "python3"
  },
  "language_info": {
   "codemirror_mode": {
    "name": "ipython",
    "version": 3
   },
   "file_extension": ".py",
   "mimetype": "text/x-python",
   "name": "python",
   "nbconvert_exporter": "python",
   "pygments_lexer": "ipython3",
   "version": "3.12.3"
  }
 },
 "nbformat": 4,
 "nbformat_minor": 5
}
