{
 "cells": [
  {
   "cell_type": "code",
   "execution_count": null,
   "id": "2d2e3584-373d-4ea7-98a1-75f854b9dcdb",
   "metadata": {},
   "outputs": [],
   "source": [
    "#Tipical pubchem html structure\n",
    "\n",
    "#Title: \n",
    "#<head><title> str\n",
    "\n",
    "#GHStable:\n",
    "#<body>\n",
    "#<div class=\"theme-compound\" id=\"root\">\n",
    "#<div class=\"relative min-h-screen flex flex-col\">flex\n",
    "#<main id=\"main-content\" class=\"print:border-0 border-b-4 border-theme flex-1\">\n",
    "#<div class=\"main-width app-wrapper\">\n",
    "#<div class=\"lg:flex lg:flex-nowrap\">\n",
    "#<div class=\"lg:w-2/3 2xl:w-3/4 space-y-4\">\n",
    "#<div id=\"section-container\" class=\"py-8\">\n",
    "#<section id=\"Safety-and-Hazards\" class=\"pt-4\">\n",
    "#<section id=\"Hazards-Identification\" class=\"pt-4\"> \n",
    "#<section id=\"GHS-Classification\" class=\"pt-4\">\n",
    "#<div class=\"px-1 py-3 space-y-2\">\n",
    "#<div class>\n",
    "#<div class=\"sm:table w-full\">\n",
    "#<div class=\"sm:table-row-group\">\n",
    "\n",
    "#GHS Hazard Statements:\n",
    "#<div class=\"p-2 sm:table-row pc-gray-border-t sm:border-0 \">…</div>\n",
    "#<div class=\"text-left sm:table-cell sm:align-middle sm:p-2  sm:border-t sm:border-gray-300 dark:sm:border-gray-300/20  pb-1 pl-2\">\n",
    "#<div class=\"break-words space-y-1\">\n",
    "#<p>\n",
    "\n",
    "#Precautionary Statement Codes:\n",
    "#<div class=\"p-2 sm:table-row pc-gray-border-t sm:border-0 \">…</div>\n",
    "#<div class=\"text-left sm:table-cell sm:align-middle sm:p-2  sm:border-t sm:border-gray-300 dark:sm:border-gray-300/20  pb-1 pl-2\">\n",
    "#<div class=\"break-words space-y-1\">\n",
    "#<p>"
   ]
  },
  {
   "cell_type": "code",
   "execution_count": 29,
   "id": "d39c0932-57cf-4339-b60f-a4d22d2c0147",
   "metadata": {},
   "outputs": [
    {
     "name": "stdout",
     "output_type": "stream",
     "text": [
      "<div class=\"theme-compound\" id=\"root\"></div>\n"
     ]
    }
   ],
   "source": [
    "import requests\n",
    "from bs4 import BeautifulSoup\n",
    "\n",
    "pubchem_url = \"https://pubchem.ncbi.nlm.nih.gov/compound/2244\"\n",
    "\n",
    "# Fetch the content of the webpage\n",
    "response = requests.get(pubchem_url)\n",
    "response.raise_for_status()\n",
    "\n",
    "#Parsing\n",
    "soup = BeautifulSoup(response.content, 'html.parser')\n",
    "\n",
    "root = soup.find('div', \"theme-compound\", \"root\")\n",
    "print(root)\n",
    "\n",
    "# DEAD end, that is due to the content being dynamically loaded using JavaScript\n",
    "#This is common with moder web applications that use frameworks like React, Angular, or Vue.js"
   ]
  },
  {
   "cell_type": "code",
   "execution_count": 32,
   "id": "d686f1c4-ff66-4284-9e1e-284c051cd7bf",
   "metadata": {},
   "outputs": [
    {
     "name": "stdout",
     "output_type": "stream",
     "text": [
      "None\n"
     ]
    }
   ],
   "source": [
    "from selenium import webdriver\n",
    "from selenium.webdriver.common.by import By\n",
    "from selenium.webdriver.chrome.service import Service\n",
    "from selenium.webdriver.chrome.options import Options\n",
    "import time\n",
    "\n",
    "chrome_options = Options()\n",
    "chrome_options.add_argument(\"--headless\") #no GUI\n",
    "\n",
    "driver = webdriver.Chrome()\n",
    "driver.get(pubchem_url)\n",
    "time.sleep(5)\n",
    "page_source = driver.page_source\n",
    "\n",
    "soup = BeautifulSoup(page_source, 'html.parser')\n",
    "root = soup.find('div', \"theme-compound\", \"root\")\n",
    "print(root)\n",
    "\n",
    "driver.quit()"
   ]
  },
  {
   "cell_type": "code",
   "execution_count": 60,
   "id": "34076dab-90a1-49c7-9376-7ed78ca5534a",
   "metadata": {},
   "outputs": [
    {
     "name": "stdout",
     "output_type": "stream",
     "text": [
      "H302 (95.27%): Harmful if swallowed [\n",
      "H315 (21.62%): Causes skin irritation [\n",
      "H319 (23.31%): Causes serious eye irritation [\n"
     ]
    }
   ],
   "source": [
    "#print(soup.find_all('div', 'break-words space-y-1', 'p'))\n",
    "index = ['H302', 'H315', 'H319']\n",
    "HazardStat = soup.find_all(string=lambda text: any(s in text for s in index))\n",
    "for elem in HazardStat:\n",
    "    print(elem)"
   ]
  },
  {
   "cell_type": "code",
   "execution_count": null,
   "id": "04647a10-3cc5-439d-8724-e1742ebdf588",
   "metadata": {},
   "outputs": [],
   "source": []
  }
 ],
 "metadata": {
  "kernelspec": {
   "display_name": "Python 3 (ipykernel)",
   "language": "python",
   "name": "python3"
  },
  "language_info": {
   "codemirror_mode": {
    "name": "ipython",
    "version": 3
   },
   "file_extension": ".py",
   "mimetype": "text/x-python",
   "name": "python",
   "nbconvert_exporter": "python",
   "pygments_lexer": "ipython3",
   "version": "3.12.3"
  }
 },
 "nbformat": 4,
 "nbformat_minor": 5
}
