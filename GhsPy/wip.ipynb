{
 "cells": [
  {
   "cell_type": "code",
   "execution_count": null,
   "id": "2d2e3584-373d-4ea7-98a1-75f854b9dcdb",
   "metadata": {},
   "outputs": [],
   "source": [
    "#Tipical pubchem html structure\n",
    "\n",
    "#Title: \n",
    "#<head><title> str\n",
    "\n",
    "#GHStable:\n",
    "#<body>\n",
    "#<div class=\"theme-compound\" id=\"root\">\n",
    "#<div class=\"relative min-h-screen flex flex-col\">flex\n",
    "#<main id=\"main-content\" class=\"print:border-0 border-b-4 border-theme flex-1\">\n",
    "#<div class=\"main-width app-wrapper\">\n",
    "#<div class=\"lg:flex lg:flex-nowrap\">\n",
    "#<div class=\"lg:w-2/3 2xl:w-3/4 space-y-4\">\n",
    "#<div id=\"section-container\" class=\"py-8\">\n",
    "#<section id=\"Safety-and-Hazards\" class=\"pt-4\">\n",
    "#<section id=\"Hazards-Identification\" class=\"pt-4\"> \n",
    "#<section id=\"GHS-Classification\" class=\"pt-4\">\n",
    "#<div class=\"px-1 py-3 space-y-2\">\n",
    "#<div class>\n",
    "#<div class=\"sm:table w-full\">\n",
    "#<div class=\"sm:table-row-group\">\n",
    "\n",
    "#GHS Hazard Statements:\n",
    "#<div class=\"p-2 sm:table-row pc-gray-border-t sm:border-0 \">…</div>\n",
    "#<div class=\"text-left sm:table-cell sm:align-middle sm:p-2  sm:border-t sm:border-gray-300 dark:sm:border-gray-300/20  pb-1 pl-2\">\n",
    "#<div class=\"break-words space-y-1\">\n",
    "#<p>\n",
    "\n",
    "#Precautionary Statement Codes:\n",
    "#<div class=\"p-2 sm:table-row pc-gray-border-t sm:border-0 \">…</div>\n",
    "#<div class=\"text-left sm:table-cell sm:align-middle sm:p-2  sm:border-t sm:border-gray-300 dark:sm:border-gray-300/20  pb-1 pl-2\">\n",
    "#<div class=\"break-words space-y-1\">\n",
    "#<p>"
   ]
  },
  {
   "cell_type": "code",
   "execution_count": 29,
   "id": "d39c0932-57cf-4339-b60f-a4d22d2c0147",
   "metadata": {},
   "outputs": [
    {
     "name": "stdout",
     "output_type": "stream",
     "text": [
      "<div class=\"theme-compound\" id=\"root\"></div>\n"
     ]
    }
   ],
   "source": [
    "import requests\n",
    "from bs4 import BeautifulSoup\n",
    "\n",
    "pubchem_url = \"https://pubchem.ncbi.nlm.nih.gov/compound/2244\"\n",
    "\n",
    "# Fetch the content of the webpage\n",
    "response = requests.get(pubchem_url)\n",
    "response.raise_for_status()\n",
    "\n",
    "#Parsing\n",
    "soup = BeautifulSoup(response.content, 'html.parser')\n",
    "\n",
    "root = soup.find('div', \"theme-compound\", \"root\")\n",
    "print(root)\n",
    "\n",
    "# DEAD end, that is due to the content being dynamically loaded using JavaScript\n",
    "#This is common with moder web applications that use frameworks like React, Angular, or Vue.js"
   ]
  },
  {
   "cell_type": "code",
   "execution_count": 32,
   "id": "d686f1c4-ff66-4284-9e1e-284c051cd7bf",
   "metadata": {},
   "outputs": [
    {
     "name": "stdout",
     "output_type": "stream",
     "text": [
      "None\n"
     ]
    }
   ],
   "source": [
    "from selenium import webdriver\n",
    "from selenium.webdriver.common.by import By\n",
    "from selenium.webdriver.chrome.service import Service\n",
    "from selenium.webdriver.chrome.options import Options\n",
    "import time\n",
    "\n",
    "chrome_options = Options()\n",
    "chrome_options.add_argument(\"--headless\") #no GUI\n",
    "\n",
    "driver = webdriver.Chrome()\n",
    "driver.get(pubchem_url)\n",
    "time.sleep(5)\n",
    "page_source = driver.page_source\n",
    "\n",
    "soup = BeautifulSoup(page_source, 'html.parser')\n",
    "root = soup.find('div', \"theme-compound\", \"root\")\n",
    "print(root)\n",
    "\n",
    "driver.quit()"
   ]
  },
  {
   "cell_type": "code",
   "execution_count": 60,
   "id": "34076dab-90a1-49c7-9376-7ed78ca5534a",
   "metadata": {},
   "outputs": [
    {
     "name": "stdout",
     "output_type": "stream",
     "text": [
      "H302 (95.27%): Harmful if swallowed [\n",
      "H315 (21.62%): Causes skin irritation [\n",
      "H319 (23.31%): Causes serious eye irritation [\n"
     ]
    }
   ],
   "source": [
    "#print(soup.find_all('div', 'break-words space-y-1', 'p'))\n",
    "index = ['H302', 'H315', 'H319']\n",
    "HazardStat = soup.find_all(string=lambda text: any(s in text for s in index))\n",
    "for elem in HazardStat:\n",
    "    print(elem)"
   ]
  },
  {
   "cell_type": "code",
   "execution_count": 31,
   "id": "04647a10-3cc5-439d-8724-e1742ebdf588",
   "metadata": {},
   "outputs": [
    {
     "name": "stderr",
     "output_type": "stream",
     "text": [
      "<>:10: SyntaxWarning: invalid escape sequence '\\g'\n",
      "<>:13: SyntaxWarning: invalid escape sequence '\\g'\n",
      "<>:10: SyntaxWarning: invalid escape sequence '\\g'\n",
      "<>:13: SyntaxWarning: invalid escape sequence '\\g'\n",
      "C:\\Users\\Edgar Tijerina\\AppData\\Local\\Temp\\ipykernel_16060\\1045827694.py:10: SyntaxWarning: invalid escape sequence '\\g'\n",
      "  def dictCodeList(path=\"dictionary\\ghscode_10.txt\"):\n",
      "C:\\Users\\Edgar Tijerina\\AppData\\Local\\Temp\\ipykernel_16060\\1045827694.py:13: SyntaxWarning: invalid escape sequence '\\g'\n",
      "  with open('dictionary\\ghscode_10.txt', 'r') as fichero:\n"
     ]
    }
   ],
   "source": [
    "from selenium import webdriver\n",
    "from selenium.webdriver.common.by import By\n",
    "from selenium.webdriver.chrome.service import Service\n",
    "from selenium.webdriver.chrome.options import Options\n",
    "from bs4 import BeautifulSoup\n",
    "from io import open\n",
    "import time\n",
    "\n",
    "\n",
    "def dictCodeList(path=\"dictionary/ghscode_10.txt\"):\n",
    "    \n",
    "    codigos = []\n",
    "    with open('dictionary/ghscode_10.txt', 'r') as fichero:\n",
    "        for linea in fichero:\n",
    "            lista = linea.split()\n",
    "            if not linea.isspace():\n",
    "                codigos.append(lista[0])\n",
    "    return codigos\n",
    "\n",
    "def GHScodefinder(pubchem_url=None):\n",
    "\n",
    "    \"\"\"\n",
    "    The chemGHSclass func will return the GHS classification of any chemical published in Pubchem\n",
    "    by scrapping the website with selenium and comparing the codes found within its html source \n",
    "    with the dictionary database\n",
    "    \"\"\"\n",
    "    \n",
    "    chrome_options = Options()\n",
    "    chrome_options.add_argument(\"--headless\") #no GUI\n",
    "\n",
    "    driver = webdriver.Chrome()\n",
    "    driver.get(pubchem_url)\n",
    "    time.sleep(5) #Waits for the page to load completely\n",
    "    page_source = driver.page_source\n",
    "    driver.quit()\n",
    "    \n",
    "    soup = BeautifulSoup(page_source, 'html.parser')\n",
    "\n",
    "    dict_list = dictCodeList()\n",
    "    HazardStat = soup.find_all(string=lambda text: any(s in text for s in dict_list))\n",
    "    \n",
    "    codes_found = []\n",
    "    for large_string in result:\n",
    "        nocommas = large_string.replace(\",\", \" \")\n",
    "        listOfstrings = nocommas.split()\n",
    "        for smaller_strings in listOfstrings:\n",
    "            if smaller_strings in codigos:\n",
    "                codes_found.append(smaller_strings)\n",
    "    return codes_found\n",
    "\n",
    "result = GHScodefinder(\"https://pubchem.ncbi.nlm.nih.gov/compound/2244\")"
   ]
  },
  {
   "cell_type": "code",
   "execution_count": 32,
   "id": "52b01163-8965-4fcb-88db-2d5f7c2aa2b1",
   "metadata": {},
   "outputs": [
    {
     "name": "stdout",
     "output_type": "stream",
     "text": [
      "['H302', 'H315', 'H319', 'H335', 'P261', 'P264', 'P264+P265', 'P270', 'P271', 'P280', 'P301+P317', 'P302+P352', 'P304+P340', 'P305+P351+P338', 'P319', 'P321', 'P330', 'P332+P317', 'P337+P317', 'P362+P364', 'P403+P233', 'P405', 'P501']\n"
     ]
    }
   ],
   "source": [
    "print(result)"
   ]
  },
  {
   "cell_type": "code",
   "execution_count": 55,
   "id": "21801f53-71b7-4917-aa9b-09cafb6ccda1",
   "metadata": {},
   "outputs": [
    {
     "name": "stdout",
     "output_type": "stream",
     "text": [
      "['GHS Hazard Category', 'Unstable Explosive', 'Div 1.1', 'Div 1.2', 'Div 1.3', 'Category 2B', 'Category 2C', 'Div 1.5', 'Div 1.6', 'Category 1', 'Category 2', 'Category 3', 'Category 4', 'Category 1', 'Category 2A', 'Category 1', 'Category 1', '1A: Flammable gas, Pyrophoric gas, Chemically unstable gas A,B', '1B', 'Category 2', 'Category 1', 'Category 2', 'Category 1', 'Category 2', 'Category 3', 'Category 4', 'Category 1', 'Category 2', 'Category 1', 'Category 2', 'Category 3', '1A, Chemically unstable gas A', '1A, Chemically unstable gas B', '1A, Pyrophoric gas', 'Type A', 'Type B', 'Type C, D', 'Type E, F', 'Type G', 'Category 1', 'Category 1', 'Category 1', 'Category 2', 'Category 1', 'Category 2', 'Category 3', 'Category 1', 'Category 1', 'Category 2', 'Category 3', 'Compressed gas, Liquefied gas, Dissolved gas', 'Refrigerated liquefied gas', 'Category 1', 'Category 2', 'Category 3', 'Category 1', 'Category 1, 2', 'Category 3', 'Category 4', 'Category 5', 'Category 1', 'Category 2', 'Category 1, 2', 'Category 3', 'Category 4', 'Category 5', 'Category 1, 1A, 1B, 1C', 'Category 2', 'Category 3', 'Category 1, 1A, 1B', 'Category 1', 'Category 2A', 'Category 2B', 'Category 1, 2', 'Category 3', 'Category 4', 'Category 5', 'Category 1, 1A, 1B', 'Category 3', 'Category 3', 'Category 1, 1A, 1B', 'Category 2', 'Category 1, 1A, 1B', 'Category 1, 1A, 1B', 'Category 2', 'Category 1, 1A, 1B', 'Category 1, 1A, 1B', 'Category 1, 1A, 1B', 'Category 1, 1A, 1B', 'Category 1, 1A, 1B', 'Category 1, 1A, 1B', 'Category 2', 'Category 2', 'Category 2', 'Category 2', 'Additional category', 'Category 1', 'Category 2', 'Category 1', 'Category 2', 'Category 1', 'Category 2', 'Category 3', 'Category 1', 'Category 2', 'Category 3', 'Category 4', 'Category 1', 'Category 1, 2', 'Category 1, 2', 'Category 1, 2', 'Category 1, 2', 'Category 3', 'Category 3', 'Category 3', 'Category 3', 'Category 4', 'Category 4', 'Category 4', 'Category 4', 'Category 5', 'Category 5', 'Category 5', 'Category 5', 'Category 2, 2B', '', '', '', '', '', '', '', '', '', '', '', '', '', '', '', '', '', '', '', '', '', '', '', '', '', '', '', '', '', '', '', '', '', '', '', '', '', '', '', '', '', '', '', '', '', '', '', '', '', '', '', '', '', '', '', '', '', '', '', '', '', '', '', '', '', '', '', '', '', '', '', '', '', '', '', '', '', '', '', '', '', '', '', '', '', '', '', '', '', '', '', '', '', '', '', '', '', '', '', '', '', '', '', '', '', '', '', '', '', '', '', '', '', '', '', '', '', '', '', '', '', '', '', '', '', '', '', '', '', '', '', '', '', '', '', '', '', '', '', '', '', '', '', '', '', '', '', '', '', '', '', '', '', '', '', '', '', '', '', '', '', '', '', '', '', '', '', '']\n"
     ]
    }
   ],
   "source": [
    "from io import open\n",
    "\n",
    "class CodeDict:\n",
    "\n",
    "    #The default path uses backslashes which can cause issues on some systems. \n",
    "    #Using raw strings or forward slashes is a better approach.\n",
    "    def __init__(self, path=\"dictionary/ghscode_10.txt\"):\n",
    "        self.code = []\n",
    "        self.state = []\n",
    "        self.clase = []\n",
    "        self.cate = []\n",
    "        self.div = []\n",
    "        self.picto = []\n",
    "        self.signal_p = []\n",
    "        with open(path, 'r') as fichero:\n",
    "            for line in fichero:\n",
    "                if line.strip():\n",
    "                    parts = line.split(\"\\t\")\n",
    "                    self.code.append(parts[0])\n",
    "                    self.state.append(parts[1])\n",
    "                    self.clase.append(parts[2])\n",
    "                    self.cate.append(parts[3])\n",
    "                    self.div.append(parts[4])\n",
    "                    self.picto.append(parts[5])\n",
    "                    self.signal_p.append(parts[6])\n",
    "\n",
    "codigos = CodeDict()\n",
    "print(codigos.cate)"
   ]
  },
  {
   "cell_type": "code",
   "execution_count": 56,
   "id": "4f0dd17b-53de-4954-a890-2793b562b2c9",
   "metadata": {},
   "outputs": [
    {
     "name": "stdout",
     "output_type": "stream",
     "text": [
      "['H302', 'H315', 'H319', 'H335', 'P261', 'P264', 'P264+P265', 'P270', 'P271', 'P280', 'P301+P317', 'P302+P352', 'P304+P340', 'P305+P351+P338', 'P319', 'P321', 'P330', 'P332+P317', 'P337+P317', 'P362+P364', 'P403+P233', 'P405', 'P501']\n"
     ]
    }
   ],
   "source": [
    "#All of the codes are 4 characters long, some of them are fused with a '+' sign\n",
    "#I want to create a list of only codes.\n",
    "#Algorithm list of codes\n",
    "#Input: a list of strings which contain 4 letter codes within them, sometimes they are longer when they\n",
    "#       followed by a '+' or have more than one code\n",
    "#Output: a list of formated strings with only the 4 character codes whitin them or the fused versions\n",
    "\n",
    "\n",
    "codes_found = []\n",
    "for large_string in result:\n",
    "    nocommas = large_string.replace(\",\", \" \")\n",
    "    listOfstrings = nocommas.split()\n",
    "    for smaller_strings in listOfstrings:\n",
    "        if smaller_strings in codigos.code:\n",
    "            codes_found.append(smaller_strings)\n",
    "print(codes_found)"
   ]
  },
  {
   "cell_type": "code",
   "execution_count": null,
   "id": "b2fb99b0-7a76-4ab8-8b8f-bc7b20b0eb13",
   "metadata": {},
   "outputs": [],
   "source": []
  }
 ],
 "metadata": {
  "kernelspec": {
   "display_name": "Python 3 (ipykernel)",
   "language": "python",
   "name": "python3"
  },
  "language_info": {
   "codemirror_mode": {
    "name": "ipython",
    "version": 3
   },
   "file_extension": ".py",
   "mimetype": "text/x-python",
   "name": "python",
   "nbconvert_exporter": "python",
   "pygments_lexer": "ipython3",
   "version": "3.12.3"
  }
 },
 "nbformat": 4,
 "nbformat_minor": 5
}
