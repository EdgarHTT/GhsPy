{
 "cells": [
  {
   "cell_type": "code",
   "execution_count": null,
   "id": "2d2e3584-373d-4ea7-98a1-75f854b9dcdb",
   "metadata": {},
   "outputs": [],
   "source": [
    "#Tipical pubchem html structure\n",
    "\n",
    "#Title: \n",
    "#<head><title> str\n",
    "\n",
    "#GHStable:\n",
    "#<body>\n",
    "#<div class=\"theme-compound\" id=\"root\">\n",
    "#<div class=\"relative min-h-screen flex flex-col\">flex\n",
    "#<main id=\"main-content\" class=\"print:border-0 border-b-4 border-theme flex-1\">\n",
    "#<div class=\"main-width app-wrapper\">\n",
    "#<div class=\"lg:flex lg:flex-nowrap\">\n",
    "#<div class=\"lg:w-2/3 2xl:w-3/4 space-y-4\">\n",
    "#<div id=\"section-container\" class=\"py-8\">\n",
    "#<section id=\"Safety-and-Hazards\" class=\"pt-4\">\n",
    "#<section id=\"Hazards-Identification\" class=\"pt-4\"> \n",
    "#<section id=\"GHS-Classification\" class=\"pt-4\">\n",
    "#<div class=\"px-1 py-3 space-y-2\">\n",
    "#<div class>\n",
    "#<div class=\"sm:table w-full\">\n",
    "#<div class=\"sm:table-row-group\">\n",
    "\n",
    "#GHS Hazard Statements:\n",
    "#<div class=\"p-2 sm:table-row pc-gray-border-t sm:border-0 \">…</div>\n",
    "#<div class=\"text-left sm:table-cell sm:align-middle sm:p-2  sm:border-t sm:border-gray-300 dark:sm:border-gray-300/20  pb-1 pl-2\">\n",
    "#<div class=\"break-words space-y-1\">\n",
    "#<p>\n",
    "\n",
    "#Precautionary Statement Codes:\n",
    "#<div class=\"p-2 sm:table-row pc-gray-border-t sm:border-0 \">…</div>\n",
    "#<div class=\"text-left sm:table-cell sm:align-middle sm:p-2  sm:border-t sm:border-gray-300 dark:sm:border-gray-300/20  pb-1 pl-2\">\n",
    "#<div class=\"break-words space-y-1\">\n",
    "#<p>"
   ]
  },
  {
   "cell_type": "code",
   "execution_count": 29,
   "id": "d39c0932-57cf-4339-b60f-a4d22d2c0147",
   "metadata": {},
   "outputs": [
    {
     "name": "stdout",
     "output_type": "stream",
     "text": [
      "<div class=\"theme-compound\" id=\"root\"></div>\n"
     ]
    }
   ],
   "source": [
    "import requests\n",
    "from bs4 import BeautifulSoup\n",
    "\n",
    "pubchem_url = \"https://pubchem.ncbi.nlm.nih.gov/compound/2244\"\n",
    "\n",
    "# Fetch the content of the webpage\n",
    "response = requests.get(pubchem_url)\n",
    "response.raise_for_status()\n",
    "\n",
    "#Parsing\n",
    "soup = BeautifulSoup(response.content, 'html.parser')\n",
    "\n",
    "root = soup.find('div', \"theme-compound\", \"root\")\n",
    "print(root)\n",
    "\n",
    "# DEAD end, that is due to the content being dynamically loaded using JavaScript\n",
    "#This is common with moder web applications that use frameworks like React, Angular, or Vue.js"
   ]
  },
  {
   "cell_type": "code",
   "execution_count": 32,
   "id": "d686f1c4-ff66-4284-9e1e-284c051cd7bf",
   "metadata": {},
   "outputs": [
    {
     "name": "stdout",
     "output_type": "stream",
     "text": [
      "None\n"
     ]
    }
   ],
   "source": [
    "from selenium import webdriver\n",
    "from selenium.webdriver.common.by import By\n",
    "from selenium.webdriver.chrome.service import Service\n",
    "from selenium.webdriver.chrome.options import Options\n",
    "import time\n",
    "\n",
    "chrome_options = Options()\n",
    "chrome_options.add_argument(\"--headless\") #no GUI\n",
    "\n",
    "driver = webdriver.Chrome()\n",
    "driver.get(pubchem_url)\n",
    "time.sleep(5)\n",
    "page_source = driver.page_source\n",
    "\n",
    "soup = BeautifulSoup(page_source, 'html.parser')\n",
    "root = soup.find('div', \"theme-compound\", \"root\")\n",
    "print(root)\n",
    "\n",
    "driver.quit()"
   ]
  },
  {
   "cell_type": "code",
   "execution_count": 60,
   "id": "34076dab-90a1-49c7-9376-7ed78ca5534a",
   "metadata": {},
   "outputs": [
    {
     "name": "stdout",
     "output_type": "stream",
     "text": [
      "H302 (95.27%): Harmful if swallowed [\n",
      "H315 (21.62%): Causes skin irritation [\n",
      "H319 (23.31%): Causes serious eye irritation [\n"
     ]
    }
   ],
   "source": [
    "#print(soup.find_all('div', 'break-words space-y-1', 'p'))\n",
    "index = ['H302', 'H315', 'H319']\n",
    "HazardStat = soup.find_all(string=lambda text: any(s in text for s in index))\n",
    "for elem in HazardStat:\n",
    "    print(elem)"
   ]
  },
  {
   "cell_type": "code",
   "execution_count": 6,
   "id": "04647a10-3cc5-439d-8724-e1742ebdf588",
   "metadata": {},
   "outputs": [
    {
     "ename": "TypeError",
     "evalue": "argument of type 'CodeDict' is not iterable",
     "output_type": "error",
     "traceback": [
      "\u001b[1;31m---------------------------------------------------------------------------\u001b[0m",
      "\u001b[1;31mTypeError\u001b[0m                                 Traceback (most recent call last)",
      "Cell \u001b[1;32mIn[6], line 51\u001b[0m\n\u001b[0;32m     48\u001b[0m                 codes_found\u001b[38;5;241m.\u001b[39mappend(smaller_strings)\n\u001b[0;32m     49\u001b[0m     \u001b[38;5;28;01mreturn\u001b[39;00m codes_found\n\u001b[1;32m---> 51\u001b[0m result \u001b[38;5;241m=\u001b[39m \u001b[43mGHScodefinder\u001b[49m\u001b[43m(\u001b[49m\u001b[38;5;124;43m\"\u001b[39;49m\u001b[38;5;124;43mhttps://pubchem.ncbi.nlm.nih.gov/compound/2244\u001b[39;49m\u001b[38;5;124;43m\"\u001b[39;49m\u001b[43m)\u001b[49m\n",
      "Cell \u001b[1;32mIn[6], line 47\u001b[0m, in \u001b[0;36mGHScodefinder\u001b[1;34m(pubchem_url)\u001b[0m\n\u001b[0;32m     45\u001b[0m     listOfstrings \u001b[38;5;241m=\u001b[39m nocommas\u001b[38;5;241m.\u001b[39msplit()\n\u001b[0;32m     46\u001b[0m     \u001b[38;5;28;01mfor\u001b[39;00m smaller_strings \u001b[38;5;129;01min\u001b[39;00m listOfstrings:\n\u001b[1;32m---> 47\u001b[0m         \u001b[38;5;28;01mif\u001b[39;00m \u001b[43msmaller_strings\u001b[49m\u001b[43m \u001b[49m\u001b[38;5;129;43;01min\u001b[39;49;00m\u001b[43m \u001b[49m\u001b[43mcodigos\u001b[49m:\n\u001b[0;32m     48\u001b[0m             codes_found\u001b[38;5;241m.\u001b[39mappend(smaller_strings)\n\u001b[0;32m     49\u001b[0m \u001b[38;5;28;01mreturn\u001b[39;00m codes_found\n",
      "\u001b[1;31mTypeError\u001b[0m: argument of type 'CodeDict' is not iterable"
     ]
    }
   ],
   "source": [
    "from selenium import webdriver\n",
    "from selenium.webdriver.common.by import By\n",
    "from selenium.webdriver.chrome.service import Service\n",
    "from selenium.webdriver.chrome.options import Options\n",
    "from bs4 import BeautifulSoup\n",
    "from io import open\n",
    "import time\n",
    "\n",
    "\n",
    "def dictCodeList(path=\"dictionary/ghscode_10.txt\"):\n",
    "    \n",
    "    codigos = []\n",
    "    with open('dictionary/ghscode_10.txt', 'r') as fichero:\n",
    "        for linea in fichero:\n",
    "            lista = linea.split()\n",
    "            if not linea.isspace():\n",
    "                codigos.append(lista[0])\n",
    "    return codigos\n",
    "\n",
    "def GHScodefinder(pubchem_url=None):\n",
    "\n",
    "    \"\"\"\n",
    "    The chemGHSclass func will return the GHS classification of any chemical published in Pubchem\n",
    "    by scrapping the website with selenium and comparing the codes found within its html source \n",
    "    with the dictionary database\n",
    "    \"\"\"\n",
    "    \n",
    "    chrome_options = Options()\n",
    "    chrome_options.add_argument(\"--headless\") #no GUI\n",
    "\n",
    "    driver = webdriver.Chrome()\n",
    "    driver.get(pubchem_url)\n",
    "    time.sleep(5) #Waits for the page to load completely\n",
    "    page_source = driver.page_source\n",
    "    driver.quit()\n",
    "    \n",
    "    soup = BeautifulSoup(page_source, 'html.parser')\n",
    "\n",
    "    dict_list = dictCodeList()\n",
    "    HazardStat = soup.find_all(string=lambda text: any(s in text for s in dict_list))\n",
    "    \n",
    "    codes_found = []\n",
    "    for large_string in HazardStat:\n",
    "        nocommas = large_string.replace(\",\", \" \")\n",
    "        listOfstrings = nocommas.split()\n",
    "        for smaller_strings in listOfstrings:\n",
    "            if smaller_strings in codigos:\n",
    "                codes_found.append(smaller_strings)\n",
    "    return codes_found\n",
    "\n",
    "result = GHScodefinder(\"https://pubchem.ncbi.nlm.nih.gov/compound/2244\")"
   ]
  },
  {
   "cell_type": "code",
   "execution_count": 4,
   "id": "52b01163-8965-4fcb-88db-2d5f7c2aa2b1",
   "metadata": {},
   "outputs": [
    {
     "ename": "NameError",
     "evalue": "name 'result' is not defined",
     "output_type": "error",
     "traceback": [
      "\u001b[1;31m---------------------------------------------------------------------------\u001b[0m",
      "\u001b[1;31mNameError\u001b[0m                                 Traceback (most recent call last)",
      "Cell \u001b[1;32mIn[4], line 1\u001b[0m\n\u001b[1;32m----> 1\u001b[0m \u001b[38;5;28mprint\u001b[39m(\u001b[43mresult\u001b[49m)\n",
      "\u001b[1;31mNameError\u001b[0m: name 'result' is not defined"
     ]
    }
   ],
   "source": [
    "print(result)"
   ]
  },
  {
   "cell_type": "code",
   "execution_count": 5,
   "id": "21801f53-71b7-4917-aa9b-09cafb6ccda1",
   "metadata": {},
   "outputs": [
    {
     "name": "stdout",
     "output_type": "stream",
     "text": [
      "['GHS Hazard Category', 'Unstable Explosive', 'Div 1.1', 'Div 1.2', 'Div 1.3', 'Category 2B', 'Category 2C', 'Div 1.5', 'Div 1.6', 'Category 1', 'Category 2', 'Category 3', 'Category 4', 'Category 1', 'Category 2A', 'Category 1', 'Category 1', '1A: Flammable gas, Pyrophoric gas, Chemically unstable gas A,B', '1B', 'Category 2', 'Category 1', 'Category 2', 'Category 1', 'Category 2', 'Category 3', 'Category 4', 'Category 1', 'Category 2', 'Category 1', 'Category 2', 'Category 3', '1A, Chemically unstable gas A', '1A, Chemically unstable gas B', '1A, Pyrophoric gas', 'Type A', 'Type B', 'Type C, D', 'Type E, F', 'Type G', 'Category 1', 'Category 1', 'Category 1', 'Category 2', 'Category 1', 'Category 2', 'Category 3', 'Category 1', 'Category 1', 'Category 2', 'Category 3', 'Compressed gas, Liquefied gas, Dissolved gas', 'Refrigerated liquefied gas', 'Category 1', 'Category 2', 'Category 3', 'Category 1', 'Category 1, 2', 'Category 3', 'Category 4', 'Category 5', 'Category 1', 'Category 2', 'Category 1, 2', 'Category 3', 'Category 4', 'Category 5', 'Category 1, 1A, 1B, 1C', 'Category 2', 'Category 3', 'Category 1, 1A, 1B', 'Category 1', 'Category 2A', 'Category 2B', 'Category 1, 2', 'Category 3', 'Category 4', 'Category 5', 'Category 1, 1A, 1B', 'Category 3', 'Category 3', 'Category 1, 1A, 1B', 'Category 2', 'Category 1, 1A, 1B', 'Category 1, 1A, 1B', 'Category 2', 'Category 1, 1A, 1B', 'Category 1, 1A, 1B', 'Category 1, 1A, 1B', 'Category 1, 1A, 1B', 'Category 1, 1A, 1B', 'Category 1, 1A, 1B', 'Category 2', 'Category 2', 'Category 2', 'Category 2', 'Additional category', 'Category 1', 'Category 2', 'Category 1', 'Category 2', 'Category 1', 'Category 2', 'Category 3', 'Category 1', 'Category 2', 'Category 3', 'Category 4', 'Category 1', 'Category 1, 2', 'Category 1, 2', 'Category 1, 2', 'Category 1, 2', 'Category 3', 'Category 3', 'Category 3', 'Category 3', 'Category 4', 'Category 4', 'Category 4', 'Category 4', 'Category 5', 'Category 5', 'Category 5', 'Category 5', 'Category 2, 2B', '', '', '', '', '', '', '', '', '', '', '', '', '', '', '', '', '', '', '', '', '', '', '', '', '', '', '', '', '', '', '', '', '', '', '', '', '', '', '', '', '', '', '', '', '', '', '', '', '', '', '', '', '', '', '', '', '', '', '', '', '', '', '', '', '', '', '', '', '', '', '', '', '', '', '', '', '', '', '', '', '', '', '', '', '', '', '', '', '', '', '', '', '', '', '', '', '', '', '', '', '', '', '', '', '', '', '', '', '', '', '', '', '', '', '', '', '', '', '', '', '', '', '', '', '', '', '', '', '', '', '', '', '', '', '', '', '', '', '', '', '', '', '', '', '', '', '', '', '', '', '', '', '', '', '', '', '', '', '', '', '', '', '', '', '', '', '', '']\n"
     ]
    }
   ],
   "source": [
    "from io import open\n",
    "\n",
    "class CodeDict:\n",
    "\n",
    "    #The default path uses backslashes which can cause issues on some systems. \n",
    "    #Using raw strings or forward slashes is a better approach.\n",
    "    def __init__(self, path=\"dictionary/ghscode_10.txt\"):\n",
    "        self.code = []\n",
    "        self.state = []\n",
    "        self.clase = []\n",
    "        self.cate = []\n",
    "        self.div = []\n",
    "        self.picto = []\n",
    "        self.signal_p = []\n",
    "        with open(path, 'r') as fichero:\n",
    "            for line in fichero:\n",
    "                if line.strip():\n",
    "                    parts = line.split(\"\\t\")\n",
    "                    self.code.append(parts[0])\n",
    "                    self.state.append(parts[1])\n",
    "                    self.clase.append(parts[2])\n",
    "                    self.cate.append(parts[3])\n",
    "                    self.div.append(parts[4])\n",
    "                    self.picto.append(parts[5])\n",
    "                    self.signal_p.append(parts[6])\n",
    "\n",
    "codigos = CodeDict()\n",
    "print(codigos.cate)"
   ]
  },
  {
   "cell_type": "code",
   "execution_count": 56,
   "id": "4f0dd17b-53de-4954-a890-2793b562b2c9",
   "metadata": {},
   "outputs": [
    {
     "name": "stdout",
     "output_type": "stream",
     "text": [
      "['H302', 'H315', 'H319', 'H335', 'P261', 'P264', 'P264+P265', 'P270', 'P271', 'P280', 'P301+P317', 'P302+P352', 'P304+P340', 'P305+P351+P338', 'P319', 'P321', 'P330', 'P332+P317', 'P337+P317', 'P362+P364', 'P403+P233', 'P405', 'P501']\n"
     ]
    }
   ],
   "source": [
    "#All of the codes are 4 characters long, some of them are fused with a '+' sign\n",
    "#I want to create a list of only codes.\n",
    "#Algorithm list of codes\n",
    "#Input: a list of strings which contain 4 letter codes within them, sometimes they are longer when they\n",
    "#       followed by a '+' or have more than one code\n",
    "#Output: a list of formated strings with only the 4 character codes whitin them or the fused versions\n",
    "\n",
    "\n",
    "codes_found = []\n",
    "for large_string in result:\n",
    "    nocommas = large_string.replace(\",\", \" \")\n",
    "    listOfstrings = nocommas.split()\n",
    "    for smaller_strings in listOfstrings:\n",
    "        if smaller_strings in codigos.code:\n",
    "            codes_found.append(smaller_strings)\n",
    "print(codes_found)"
   ]
  },
  {
   "cell_type": "code",
   "execution_count": 12,
   "id": "b2fb99b0-7a76-4ab8-8b8f-bc7b20b0eb13",
   "metadata": {},
   "outputs": [
    {
     "name": "stdout",
     "output_type": "stream",
     "text": [
      "['H302', 'H315', 'H319', 'H335', 'P261', 'P264', 'P264+P265', 'P270', 'P271', 'P280', 'P301+P317', 'P302+P352', 'P304+P340', 'P305+P351+P338', 'P319', 'P321', 'P330', 'P332+P317', 'P337+P317', 'P362+P364', 'P403+P233', 'P405', 'P501']\n"
     ]
    }
   ],
   "source": [
    "from selenium import webdriver\n",
    "from selenium.webdriver.common.by import By\n",
    "from selenium.webdriver.chrome.service import Service\n",
    "from selenium.webdriver.chrome.options import Options\n",
    "from bs4 import BeautifulSoup\n",
    "from io import open\n",
    "import time\n",
    "\n",
    "\n",
    "class CodeDict:\n",
    "\n",
    "    #The default path uses backslashes which can cause issues on some systems. \n",
    "    #Using raw strings or forward slashes is a better approach.\n",
    "    def __init__(self, path=\"dictionary/ghscode_10.txt\"):\n",
    "        self.code = []\n",
    "        self.state = []\n",
    "        self.clase = []\n",
    "        self.cate = []\n",
    "        self.div = []\n",
    "        self.picto = []\n",
    "        self.signal_p = []\n",
    "        with open(path, 'r') as fichero:\n",
    "            for line in fichero:\n",
    "                if line.strip():\n",
    "                    parts = line.split(\"\\t\")\n",
    "                    self.code.append(parts[0])\n",
    "                    self.state.append(parts[1])\n",
    "                    self.clase.append(parts[2])\n",
    "                    self.cate.append(parts[3])\n",
    "                    self.div.append(parts[4])\n",
    "                    self.picto.append(parts[5])\n",
    "                    self.signal_p.append(parts[6])\n",
    "\n",
    "def chemGHScode(pubchem_url=None):\n",
    "\n",
    "    \"\"\"\n",
    "    The chemGHSclass func will return the GHS classification of any chemical published in Pubchem\n",
    "    by scrapping the website with selenium and comparing the codes found within its html source \n",
    "    and the local dictionary database\n",
    "    \"\"\"\n",
    "    \n",
    "    chrome_options = Options()\n",
    "    chrome_options.add_argument(\"--headless\") #no GUI\n",
    "\n",
    "    driver = webdriver.Chrome()\n",
    "    driver.get(pubchem_url)\n",
    "    time.sleep(0.5) #Waits for the page to load completely\n",
    "    page_source = driver.page_source\n",
    "    driver.quit()\n",
    "    \n",
    "    soup = BeautifulSoup(page_source, 'html.parser')\n",
    "\n",
    "    code_dict = CodeDict()\n",
    "    HazardStat = soup.find_all(string=lambda text: any(s in text for s in code_dict.code))\n",
    "\n",
    "    codes_found = []\n",
    "    for large_string in HazardStat:\n",
    "        nocommas = large_string.replace(\",\", \" \")\n",
    "        listOfstrings = nocommas.split()\n",
    "        for smaller_strings in listOfstrings:\n",
    "            if smaller_strings in code_dict.code:\n",
    "                codes_found.append(smaller_strings)\n",
    "    return codes_found\n",
    "\n",
    "\n",
    "\n",
    "result = chemGHScode(\"https://pubchem.ncbi.nlm.nih.gov/compound/2244\")\n",
    "print(result)"
   ]
  },
  {
   "cell_type": "code",
   "execution_count": 24,
   "id": "4c9714ce-bd90-4097-a901-2c83ba18be0f",
   "metadata": {},
   "outputs": [],
   "source": [
    "class labelBuilder():\n",
    "    code_dict = CodeDict()\n",
    "\n",
    "    def __init__(self,codes_found):\n",
    "        self.dict_cont = {}\n",
    "        code_dict = CodeDict()\n",
    "        for code in codes_found:\n",
    "            for index, ref_code in enumerate(code_dict.code):\n",
    "                if code == ref_code:\n",
    "                    self.dict_cont[code] = [\n",
    "                        code_dict.state[index], \n",
    "                        code_dict.clase[index], \n",
    "                        code_dict.cate[index], \n",
    "                        code_dict.div[index],\n",
    "                        code_dict.picto[index],\n",
    "                        code_dict.signal_p[index],\n",
    "                        ]\n",
    "        \"\"\"self.prod_id = []\n",
    "        self.sign_w = []\n",
    "        self.hazard_stat = []\n",
    "        self.prec_stat = []\n",
    "        self.supp_info = []\n",
    "        self.picto = []\"\"\""
   ]
  },
  {
   "cell_type": "code",
   "execution_count": 25,
   "id": "8d9eaef6-de72-4610-9af4-8bf5c4c46e52",
   "metadata": {},
   "outputs": [
    {
     "name": "stdout",
     "output_type": "stream",
     "text": [
      "['H302', 'H315', 'H319', 'H335', 'P261', 'P264', 'P264+P265', 'P270', 'P271', 'P280', 'P301+P317', 'P302+P352', 'P304+P340', 'P305+P351+P338', 'P319', 'P321', 'P330', 'P332+P317', 'P337+P317', 'P362+P364', 'P403+P233', 'P405', 'P501']\n"
     ]
    },
    {
     "data": {
      "text/plain": [
       "{'H302': ['Harmful if swallowed',\n",
       "  'Acute toxicity, oral',\n",
       "  'Category 4',\n",
       "  '',\n",
       "  'GHS07',\n",
       "  'Warning'],\n",
       " 'H315': ['Causes skin irritation',\n",
       "  'Skin corrosion/irritation',\n",
       "  'Category 2',\n",
       "  '',\n",
       "  'GHS07',\n",
       "  'Warning'],\n",
       " 'H319': ['Causes serious eye irritation',\n",
       "  'Serious eye damage/eye irritation',\n",
       "  'Category 2A',\n",
       "  '',\n",
       "  'GHS07',\n",
       "  'Warning'],\n",
       " 'H335': ['May cause respiratory irritation',\n",
       "  'Specific target organ toxicity, single exposure; Respiratory tract irritation',\n",
       "  'Category 3',\n",
       "  '',\n",
       "  'GHS07',\n",
       "  'Warning'],\n",
       " 'P261': ['Avoid breathing dust/fume/gas/mist/vapors/spray.',\n",
       "  '',\n",
       "  '',\n",
       "  '',\n",
       "  '',\n",
       "  ''],\n",
       " 'P264': ['Wash hands [and ...] thoroughly after handling.',\n",
       "  '',\n",
       "  '',\n",
       "  '',\n",
       "  '',\n",
       "  ''],\n",
       " 'P264+P265': ['Wash hands [and ...] thoroughly after handling. Do not touch eyes.',\n",
       "  '',\n",
       "  '',\n",
       "  '',\n",
       "  '',\n",
       "  ''],\n",
       " 'P270': ['Do not eat, drink or smoke when using this product.',\n",
       "  '',\n",
       "  '',\n",
       "  '',\n",
       "  '',\n",
       "  ''],\n",
       " 'P271': ['Use only outdoors or in a well-ventilated area.',\n",
       "  '',\n",
       "  '',\n",
       "  '',\n",
       "  '',\n",
       "  ''],\n",
       " 'P280': ['Wear protective gloves/protective clothing/eye protection/face protection/hearing protection/...',\n",
       "  '',\n",
       "  '',\n",
       "  '',\n",
       "  '',\n",
       "  ''],\n",
       " 'P301+P317': ['IF SWALLOWED: Get medical help.', '', '', '', '', ''],\n",
       " 'P302+P352': ['IF ON SKIN: wash with plenty of water/...',\n",
       "  '',\n",
       "  '',\n",
       "  '',\n",
       "  '',\n",
       "  ''],\n",
       " 'P304+P340': ['IF INHALED: Remove person to fresh air and keep comfortable for breathing.',\n",
       "  '',\n",
       "  '',\n",
       "  '',\n",
       "  '',\n",
       "  ''],\n",
       " 'P305+P351+P338': ['IF IN EYES: Rinse cautiously with water for several minutes. Remove contact lenses if present and easy to do - continue rinsing.',\n",
       "  '',\n",
       "  '',\n",
       "  '',\n",
       "  '',\n",
       "  ''],\n",
       " 'P319': ['Get medical help if you feel unwell.', '', '', '', '', ''],\n",
       " 'P321': ['Specific treatment (see ... on this label).', '', '', '', '', ''],\n",
       " 'P330': ['Rinse mouth.', '', '', '', '', ''],\n",
       " 'P332+P317': ['If skin irritation occurs: Get medical help.',\n",
       "  '',\n",
       "  '',\n",
       "  '',\n",
       "  '',\n",
       "  ''],\n",
       " 'P337+P317': ['If eye irritation persists: Get medical help.',\n",
       "  '',\n",
       "  '',\n",
       "  '',\n",
       "  '',\n",
       "  ''],\n",
       " 'P362+P364': ['Take off contaminated clothing and wash it before reuse.',\n",
       "  '',\n",
       "  '',\n",
       "  '',\n",
       "  '',\n",
       "  ''],\n",
       " 'P403+P233': ['Store in a well-ventilated place. Keep container tightly closed.',\n",
       "  '',\n",
       "  '',\n",
       "  '',\n",
       "  '',\n",
       "  ''],\n",
       " 'P405': ['Store locked up.', '', '', '', '', ''],\n",
       " 'P501': ['Dispose of contents/container to ...', '', '', '', '', '']}"
      ]
     },
     "execution_count": 25,
     "metadata": {},
     "output_type": "execute_result"
    }
   ],
   "source": [
    "label = labelBuilder(result)\n",
    "label.dict_cont"
   ]
  },
  {
   "cell_type": "code",
   "execution_count": null,
   "id": "6afc626d-15dd-4aa9-94fa-6e9ed4bed0bc",
   "metadata": {},
   "outputs": [],
   "source": []
  }
 ],
 "metadata": {
  "kernelspec": {
   "display_name": "Python 3 (ipykernel)",
   "language": "python",
   "name": "python3"
  },
  "language_info": {
   "codemirror_mode": {
    "name": "ipython",
    "version": 3
   },
   "file_extension": ".py",
   "mimetype": "text/x-python",
   "name": "python",
   "nbconvert_exporter": "python",
   "pygments_lexer": "ipython3",
   "version": "3.12.3"
  }
 },
 "nbformat": 4,
 "nbformat_minor": 5
}
